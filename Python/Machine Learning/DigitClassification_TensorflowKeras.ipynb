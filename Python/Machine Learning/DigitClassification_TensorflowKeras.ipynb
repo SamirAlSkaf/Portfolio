{
  "cells": [
    {
      "cell_type": "code",
      "execution_count": 1,
      "metadata": {
        "id": "l8DhknOWDIc4"
      },
      "outputs": [],
      "source": [
        "import numpy as np\n",
        "import matplotlib.pyplot as plt\n",
        "\n",
        "%tensorflow_version 2.x\n",
        "import tensorflow as tf"
      ]
    },
    {
      "cell_type": "code",
      "execution_count": 2,
      "metadata": {
        "id": "IsaUq1mDDVLT"
      },
      "outputs": [],
      "source": [
        "#Load dataset.\n",
        "mnist = tf.keras.datasets.mnist\n",
        "train_data, test_data = mnist.load_data()"
      ]
    },
    {
      "cell_type": "code",
      "execution_count": 3,
      "metadata": {
        "id": "nWuEpda6EBMN"
      },
      "outputs": [],
      "source": [
        "#Divide data into features / labels.\n",
        "train_images, train_labels = train_data\n",
        "test_images, test_labels = test_data"
      ]
    },
    {
      "cell_type": "code",
      "execution_count": 4,
      "metadata": {
        "id": "wrAabZnyDinP"
      },
      "outputs": [],
      "source": [
        "#Reshape and normalize images.\n",
        "X_train = train_images.reshape((60000, 784))\n",
        "X_train = X_train.astype('float32') / 255\n",
        "X_test = test_images.reshape((10000, 784))\n",
        "X_test = X_test.astype('float32') / 255"
      ]
    },
    {
      "cell_type": "code",
      "execution_count": 5,
      "metadata": {
        "id": "iHUWJlyBE1P0"
      },
      "outputs": [],
      "source": [
        "#Reshape labels and encode them categorically.\n",
        "y_train = tf.keras.utils.to_categorical(train_labels)\n",
        "y_test = tf.keras.utils.to_categorical(test_labels)"
      ]
    },
    {
      "cell_type": "code",
      "execution_count": 6,
      "metadata": {
        "colab": {
          "base_uri": "https://localhost:8080/"
        },
        "id": "9PpPi0qpNI_L",
        "outputId": "644ecbd9-6925-47fa-a5d1-33f68b2d2d96"
      },
      "outputs": [],
      "source": [
        "#Show shapes of the data.\n",
        "print(\"Training Images:\", X_train.shape)\n",
        "print(\"Testing Images:\", X_test.shape)\n",
        "print(\"Training Labels:\", y_train.shape)\n",
        "print(\"Test Labels:\", y_test.shape)"
      ]
    },
    {
      "cell_type": "code",
      "execution_count": 7,
      "metadata": {
        "colab": {
          "base_uri": "https://localhost:8080/",
          "height": 265
        },
        "id": "mSKjBaeNNc1m",
        "outputId": "6020122d-3261-412f-ed41-2c3449cd7c64"
      },
      "outputs": [],
      "source": [
        "#Show a sample digit, just to be sure.\n",
        "plt.imshow(train_images[10])\n",
        "plt.show()"
      ]
    },
    {
      "cell_type": "code",
      "execution_count": 8,
      "metadata": {
        "id": "Ri1rSpp3FSDS"
      },
      "outputs": [],
      "source": [
        "#Define sequential model.\n",
        "model = tf.keras.models.Sequential()"
      ]
    },
    {
      "cell_type": "code",
      "execution_count": 9,
      "metadata": {
        "id": "5CNJ9gHWFWQv"
      },
      "outputs": [],
      "source": [
        "#Add two fully-connected layers to the network.\n",
        "model.add(tf.keras.layers.Dense(512, activation='relu', input_shape=(28 * 28,)))\n",
        "model.add(tf.keras.layers.Dense(10, activation='softmax'))"
      ]
    },
    {
      "cell_type": "code",
      "execution_count": 10,
      "metadata": {
        "colab": {
          "base_uri": "https://localhost:8080/"
        },
        "id": "cdMaLgtqFeV6",
        "outputId": "0d151a66-e466-4f9f-c581-6b7f95d11e59"
      },
      "outputs": [],
      "source": [
        "#Show model.\n",
        "model.summary()"
      ]
    },
    {
      "cell_type": "code",
      "execution_count": 11,
      "metadata": {
        "id": "57j-R0L4Fmmf"
      },
      "outputs": [],
      "source": [
        "#Compile model.\n",
        "model.compile(optimizer='adam', loss='categorical_crossentropy', metrics=['accuracy'])"
      ]
    },
    {
      "cell_type": "code",
      "execution_count": 12,
      "metadata": {
        "colab": {
          "base_uri": "https://localhost:8080/"
        },
        "id": "Yl1f9mvZF5Pc",
        "outputId": "c3f72d50-525d-4904-d3f9-4188d3e381f8"
      },
      "outputs": [],
      "source": [
        "#Define parameters.\n",
        "num_epochs = 10\n",
        "batch_size = 256\n",
        "\n",
        "#Train model.\n",
        "history = model.fit(X_train, \n",
        "                      y_train, \n",
        "                      epochs=num_epochs, \n",
        "                      batch_size=batch_size, \n",
        "                      validation_data=(X_test, y_test))"
      ]
    },
    {
      "cell_type": "code",
      "execution_count": 13,
      "metadata": {
        "colab": {
          "base_uri": "https://localhost:8080/"
        },
        "id": "vFoIAPdSYXqh",
        "outputId": "f42e5658-2d61-41cb-e4e7-53395906e28c"
      },
      "outputs": [],
      "source": [
        "test_loss, test_accuracy = model.evaluate(X_test, y_test)\n",
        "print('Test Accuracy:', test_accuracy)\n",
        "print('Test Loss:', test_loss)"
      ]
    },
    {
      "cell_type": "code",
      "execution_count": 14,
      "metadata": {
        "id": "8-OdhC_0KtUx"
      },
      "outputs": [],
      "source": [
        "#Save metrics.\n",
        "metrics = history.history"
      ]
    },
    {
      "cell_type": "code",
      "execution_count": 15,
      "metadata": {
        "id": "yfosMMiqHQB0"
      },
      "outputs": [],
      "source": [
        "#Save loss values.\n",
        "training_loss_list = metrics['loss']\n",
        "test_loss_list = metrics['val_loss']"
      ]
    },
    {
      "cell_type": "code",
      "execution_count": 16,
      "metadata": {
        "colab": {
          "base_uri": "https://localhost:8080/",
          "height": 295
        },
        "id": "HKAZlyOmHV6f",
        "outputId": "c4dfefb7-c1ba-4afc-9753-2b776f236221"
      },
      "outputs": [],
      "source": [
        "#Plot training and test loss.\n",
        "x = np.arange(0, num_epochs, 1)\n",
        "plt.title('Training and Test Loss')\n",
        "plt.xlabel('Epoch')\n",
        "plt.ylabel('Loss')\n",
        "plt.plot(x, training_loss_list, label='Training Loss')\n",
        "plt.plot(x, test_loss_list, label='Test Loss')\n",
        "plt.legend()\n",
        "plt.show()"
      ]
    },
    {
      "cell_type": "code",
      "execution_count": 17,
      "metadata": {
        "id": "RwzIUzuuI0ZP"
      },
      "outputs": [],
      "source": [
        "train_accuracy_list = metrics['accuracy']\n",
        "test_accuracy_list = metrics['val_accuracy']"
      ]
    },
    {
      "cell_type": "code",
      "execution_count": 18,
      "metadata": {
        "colab": {
          "base_uri": "https://localhost:8080/",
          "height": 295
        },
        "id": "kHj-j2HpI2Lb",
        "outputId": "a854646a-1ff0-4766-9a5d-6058d2309757"
      },
      "outputs": [],
      "source": [
        "plt.title('Training and Test Accuracy')\n",
        "plt.xlabel('Epoch')\n",
        "plt.ylabel('Accuracy')\n",
        "plt.plot(x, train_accuracy_list, label='Training Accuracy')\n",
        "plt.plot(x, test_accuracy_list, label='Test Accuracy')\n",
        "plt.legend()\n",
        "plt.show()"
      ]
    },
    {
      "cell_type": "code",
      "execution_count": 19,
      "metadata": {
        "id": "SylCmq61gTnM"
      },
      "outputs": [],
      "source": [
        "#Make predictions with the trained model.\n",
        "predictions = model.predict(X_test)"
      ]
    },
    {
      "cell_type": "code",
      "execution_count": 20,
      "metadata": {
        "colab": {
          "base_uri": "https://localhost:8080/",
          "height": 265
        },
        "id": "Gc6bx2stgfiY",
        "outputId": "9737b199-0a4d-40f0-c00f-2bf656f650b7"
      },
      "outputs": [],
      "source": [
        "#Choose an index.\n",
        "index = 45\n",
        "\n",
        "#Show an image from the test set.\n",
        "plt.imshow(test_images[index])\n",
        "plt.show()"
      ]
    },
    {
      "cell_type": "code",
      "execution_count": 21,
      "metadata": {
        "colab": {
          "base_uri": "https://localhost:8080/"
        },
        "id": "5bmSdfcFgunA",
        "outputId": "f6ddf4a6-3cf4-4615-f080-d443f3b4c043"
      },
      "outputs": [],
      "source": [
        "print(\"Prediction:\", np.argmax(predictions[index]))"
      ]
    }
  ],
  "metadata": {
    "colab": {
      "authorship_tag": "ABX9TyOtUl0jm0CM4G+U6wQaGTlq",
      "name": "MNIST Digit Classification with a Fully-Connected Neural Network",
      "provenance": []
    },
    "kernelspec": {
      "display_name": "Python 3",
      "name": "python3"
    }
  },
  "nbformat": 4,
  "nbformat_minor": 0
}
